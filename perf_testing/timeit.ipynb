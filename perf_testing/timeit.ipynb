{
 "cells": [
  {
   "cell_type": "code",
   "execution_count": 12,
   "metadata": {
    "collapsed": true
   },
   "outputs": [],
   "source": [
    "import lightgbm\n",
    "from sklearn.datasets import load_boston\n",
    "from lleaves import LightGBM\n",
    "import timeit"
   ]
  },
  {
   "cell_type": "code",
   "execution_count": 10,
   "outputs": [],
   "source": [
    "X, y = load_boston(return_X_y=True)\n",
    "lgbm_model = lightgbm.Booster(model_file=\"../tests/models/boston_housing/model.txt\")\n",
    "llvm_model = LightGBM.LGBM(model_json=\"../tests/models/boston_housing/model.json\")\n",
    "llvm_model.compile()"
   ],
   "metadata": {
    "collapsed": false,
    "pycharm": {
     "name": "#%%\n"
    }
   }
  },
  {
   "cell_type": "code",
   "execution_count": 14,
   "outputs": [],
   "source": [
    "lgbm_preds = []\n",
    "llvm_preds = []\n",
    "for i in X:\n",
    "    llvm_preds.append(lgbm_model.predict([i]))\n",
    "    lgbm_preds.append(llvm_model.predict([i]))\n",
    "\n",
    "assert lgbm_preds == llvm_preds"
   ],
   "metadata": {
    "collapsed": false,
    "pycharm": {
     "name": "#%%\n"
    }
   }
  },
  {
   "cell_type": "code",
   "execution_count": 29,
   "outputs": [
    {
     "name": "stdout",
     "output_type": "stream",
     "text": [
      "<lightgbm.basic.Booster object at 0x7f451c1f2190>\n",
      "7.782998156002577\n",
      "<lleaves.LightGBM.LGBM object at 0x7f451c1e9040>\n",
      "0.67793157000051\n"
     ]
    }
   ],
   "source": [
    "for model in [lgbm_model, llvm_model]:\n",
    "    print(model)\n",
    "    t = timeit.Timer(\"for i in X: model.predict([i])\", \"from __main__ import X, model\")\n",
    "    print(t.timeit(200))\n"
   ],
   "metadata": {
    "collapsed": false,
    "pycharm": {
     "name": "#%%\n"
    }
   }
  }
 ],
 "metadata": {
  "kernelspec": {
   "display_name": "Python 3",
   "language": "python",
   "name": "python3"
  },
  "language_info": {
   "codemirror_mode": {
    "name": "ipython",
    "version": 2
   },
   "file_extension": ".py",
   "mimetype": "text/x-python",
   "name": "python",
   "nbconvert_exporter": "python",
   "pygments_lexer": "ipython2",
   "version": "2.7.6"
  }
 },
 "nbformat": 4,
 "nbformat_minor": 0
}