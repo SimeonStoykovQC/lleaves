{
 "cells": [
  {
   "cell_type": "code",
   "execution_count": 38,
   "metadata": {
    "collapsed": true
   },
   "outputs": [],
   "source": [
    "import lightgbm\n",
    "from sklearn.datasets import load_boston\n",
    "from lleaves import LightGBM\n",
    "import timeit\n",
    "import treelite\n",
    "import treelite_runtime"
   ]
  },
  {
   "cell_type": "code",
   "execution_count": 39,
   "outputs": [
    {
     "name": "stdout",
     "output_type": "stream",
     "text": [
      "[17:15:38] ../src/compiler/ast/split.cc:26: Parallel compilation disabled; all member trees will be dumped to a single source file. This may increase compilation time and memory usage.\n"
     ]
    }
   ],
   "source": [
    "X, y = load_boston(return_X_y=True)\n",
    "lgbm_model = lightgbm.Booster(model_file=\"../tests/models/boston_housing/model.txt\")\n",
    "llvm_model = LightGBM.LGBM(model_json=\"../tests/models/boston_housing/model.json\")\n",
    "llvm_model.compile()\n",
    "treelite_model = treelite.Model.load(\"../tests/models/boston_housing/model.txt\", model_format=\"lightgbm\")\n",
    "treelite_model.export_lib(toolchain=\"gcc\", libpath=\"/tmp/boston_model.so\")\n",
    "treelite_model = treelite_runtime.Predictor(\"//tmp/boston_model.so\")"
   ],
   "metadata": {
    "collapsed": false,
    "pycharm": {
     "name": "#%%\n"
    }
   }
  },
  {
   "cell_type": "code",
   "execution_count": 43,
   "outputs": [],
   "source": [
    "lgbm_preds = []\n",
    "llvm_preds = []\n",
    "treelite_preds = []\n",
    "for i in X:\n",
    "    llvm_preds.append(lgbm_model.predict([i]))\n",
    "    lgbm_preds.append(llvm_model.predict([i]))\n",
    "    treelite_preds.append(treelite_model.predict(treelite_runtime.DMatrix([i])))\n",
    "\n",
    "assert lgbm_preds == llvm_preds\n",
    "assert lgbm_preds == treelite_preds"
   ],
   "metadata": {
    "collapsed": false,
    "pycharm": {
     "name": "#%%\n"
    }
   }
  },
  {
   "cell_type": "code",
   "execution_count": 47,
   "outputs": [
    {
     "name": "stdout",
     "output_type": "stream",
     "text": [
      "<lightgbm.basic.Booster object at 0x7f4516a26970>\n",
      "4.144962234997365\n",
      "<lleaves.LightGBM.LGBM object at 0x7f451ce30f10>\n",
      "0.3452409989986336\n",
      "<treelite_runtime.predictor.Predictor object at 0x7f4516a01fd0>\n",
      "11.680891297000926\n"
     ]
    }
   ],
   "source": [
    "for model in [lgbm_model, llvm_model]:\n",
    "    print(model)\n",
    "    t = timeit.Timer(\"for i in X: model.predict([i])\", \"from __main__ import X, model\")\n",
    "    print(t.timeit(100))\n",
    "\n",
    "model = treelite_model\n",
    "print(model)\n",
    "t = timeit.Timer(\"for i in X: model.predict(treelite_runtime.DMatrix([i]))\", globals=globals())\n",
    "print(t.timeit(100))"
   ],
   "metadata": {
    "collapsed": false,
    "pycharm": {
     "name": "#%%\n"
    }
   }
  }
 ],
 "metadata": {
  "kernelspec": {
   "display_name": "Python 3",
   "language": "python",
   "name": "python3"
  },
  "language_info": {
   "codemirror_mode": {
    "name": "ipython",
    "version": 2
   },
   "file_extension": ".py",
   "mimetype": "text/x-python",
   "name": "python",
   "nbconvert_exporter": "python",
   "pygments_lexer": "ipython2",
   "version": "2.7.6"
  }
 },
 "nbformat": 4,
 "nbformat_minor": 0
}